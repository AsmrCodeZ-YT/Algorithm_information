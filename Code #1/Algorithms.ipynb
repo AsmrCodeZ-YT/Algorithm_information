{
 "cells": [
  {
   "cell_type": "markdown",
   "metadata": {},
   "source": [
    "# Counting Sort"
   ]
  },
  {
   "cell_type": "code",
   "execution_count": 26,
   "metadata": {},
   "outputs": [
    {
     "name": "stdout",
     "output_type": "stream",
     "text": [
      "[1, 2, 2, 3, 3, 3, 4, 4, 5, 6]\n"
     ]
    }
   ],
   "source": [
    "A = [1, 2, 3, 3, 4, 5, 4, 6, 2, 3]\n",
    "\n",
    "m = max(A)\n",
    "count = [0] * (m + 1)\n",
    "for x in A:\n",
    "    count[x] += 1 \n",
    "\n",
    "A = []\n",
    "for x in range(m+1):\n",
    "    A += [x] * count[x]\n",
    "print(A)   "
   ]
  },
  {
   "cell_type": "markdown",
   "metadata": {},
   "source": [
    "# Bucket Sort"
   ]
  },
  {
   "cell_type": "code",
   "execution_count": 4,
   "metadata": {},
   "outputs": [
    {
     "data": {
      "text/plain": [
       "[11, 18, 22, 22, 26, 31, 33, 45, 55, 56]"
      ]
     },
     "execution_count": 4,
     "metadata": {},
     "output_type": "execute_result"
    }
   ],
   "source": [
    "A = [11, 22, 31, 18, 45, 56, 22, 26, 33, 55]\n",
    "\n",
    "# Bubble_sort\n",
    "def Bubble_sort(A):\n",
    "    n = len(A)\n",
    "    for j in range(n - 1):\n",
    "        for i in range(n - 1,j, -1):\n",
    "            if A[i] < A[i-1]:\n",
    "                A[i],A[i-1] = A[i-1],A[i]\n",
    "    return A\n",
    "     \n",
    "    \n",
    "def Bucket_sort(A):\n",
    "    n = len(A)\n",
    "    B = [[] for i in range(10)]\n",
    "    for i in A:\n",
    "        B[i//10] += [i]\n",
    "        A =[]\n",
    "    for i in range(10):\n",
    "        A += Bubble_sort(B[i])\n",
    "    return A\n",
    "\n",
    "Bucket_sort(A)\n"
   ]
  },
  {
   "cell_type": "markdown",
   "metadata": {},
   "source": [
    "# Insertion Sort"
   ]
  },
  {
   "cell_type": "code",
   "execution_count": 4,
   "metadata": {},
   "outputs": [
    {
     "name": "stdout",
     "output_type": "stream",
     "text": [
      "[-1.4, 6.7, 5, 6, 3, 7, 2, 2.1]\n",
      "[-1.4, 5, 6.7, 6, 3, 7, 2, 2.1]\n",
      "[-1.4, 5, 6, 6.7, 3, 7, 2, 2.1]\n",
      "[-1.4, 3, 5, 6, 6.7, 7, 2, 2.1]\n",
      "[-1.4, 3, 5, 6, 6.7, 7, 2, 2.1]\n",
      "[-1.4, 2, 3, 5, 6, 6.7, 7, 2.1]\n",
      "[-1.4, 2, 2.1, 3, 5, 6, 6.7, 7]\n",
      "sorted :  [-1.4, 2, 2.1, 3, 5, 6, 6.7, 7]\n"
     ]
    }
   ],
   "source": [
    "A = [6.7, -1.4, 5, 6, 3, 7, 2, 2.1]\n",
    "for k in range(1, len(A)):\n",
    "    item = A[k]\n",
    "    i = k\n",
    "    while i > 0 and A[i-1] > item:\n",
    "        A[i] = A[i-1]\n",
    "        i -= 1\n",
    "    A[i] = item\n",
    "    print(A)\n",
    "print(\"sorted : \", A)"
   ]
  },
  {
   "cell_type": "markdown",
   "metadata": {},
   "source": [
    "# Bubble Sort"
   ]
  },
  {
   "cell_type": "code",
   "execution_count": 15,
   "metadata": {},
   "outputs": [
    {
     "name": "stdout",
     "output_type": "stream",
     "text": [
      "[6.7, -1.4, 5, 6, 3, 2, 7, 2.1]\n",
      "[6.7, -1.4, 5, 6, 2, 3, 7, 2.1]\n",
      "[6.7, -1.4, 5, 2, 6, 3, 7, 2.1]\n",
      "[6.7, -1.4, 2, 5, 6, 3, 7, 2.1]\n",
      "[-1.4, 6.7, 2, 5, 6, 3, 7, 2.1]\n",
      "[-1.4, 6.7, 2, 5, 6, 3, 2.1, 7]\n",
      "[-1.4, 6.7, 2, 5, 6, 2.1, 3, 7]\n",
      "[-1.4, 6.7, 2, 5, 2.1, 6, 3, 7]\n",
      "[-1.4, 6.7, 2, 2.1, 5, 6, 3, 7]\n",
      "[-1.4, 2, 6.7, 2.1, 5, 6, 3, 7]\n",
      "[-1.4, 2, 6.7, 2.1, 5, 3, 6, 7]\n",
      "[-1.4, 2, 6.7, 2.1, 3, 5, 6, 7]\n",
      "[-1.4, 2, 2.1, 6.7, 3, 5, 6, 7]\n",
      "[-1.4, 2, 2.1, 3, 6.7, 5, 6, 7]\n",
      "[-1.4, 2, 2.1, 3, 5, 6.7, 6, 7]\n",
      "[-1.4, 2, 2.1, 3, 5, 6, 6.7, 7]\n",
      "16\n"
     ]
    }
   ],
   "source": [
    "A = [6.7, -1.4, 5, 6, 3, 7, 2, 2.1]\n",
    "USE_CASE = 0\n",
    "n = len(A)\n",
    "for j in range(n):\n",
    "    bubble_found = False\n",
    "    for i in range(n-1,j,-1):\n",
    "        if A[i] < A[i-1]:\n",
    "            USE_CASE += 1 \n",
    "            A[i],A[i-1] = A[i-1],A[i]\n",
    "            bubble_found = True\n",
    "            print(A)\n",
    "    # break \n",
    "    if not bubble_found:\n",
    "        break\n",
    "            \n",
    "print(USE_CASE)"
   ]
  },
  {
   "cell_type": "markdown",
   "metadata": {},
   "source": [
    "# Selection Sort"
   ]
  },
  {
   "cell_type": "code",
   "execution_count": 23,
   "metadata": {},
   "outputs": [
    {
     "name": "stdout",
     "output_type": "stream",
     "text": [
      "[-1.4, 6.7, 5, 6, 3, 7, 2, 2.1]\n",
      "[-1.4, 2, 5, 6, 3, 7, 6.7, 2.1]\n",
      "[-1.4, 2, 2.1, 6, 3, 7, 6.7, 5]\n",
      "[-1.4, 2, 2.1, 3, 6, 7, 6.7, 5]\n",
      "[-1.4, 2, 2.1, 3, 5, 7, 6.7, 6]\n",
      "[-1.4, 2, 2.1, 3, 5, 6, 6.7, 7]\n",
      "[-1.4, 2, 2.1, 3, 5, 6, 6.7, 7]\n",
      "SORTED:  [-1.4, 2, 2.1, 3, 5, 6, 6.7, 7]\n"
     ]
    }
   ],
   "source": [
    "A = [6.7, -1.4, 5, 6, 3, 7, 2, 2.1]\n",
    "n = len(A)\n",
    "for i in range(n - 1):\n",
    "    selection = i\n",
    "    for j in range(i + 1, n):\n",
    "        if (A[j] < A[selection]):\n",
    "            selection = j\n",
    "    A[i], A[selection] = A[selection], A[i]\n",
    "    print(A)\n",
    " \n",
    "print(\"SORTED: \",A)       "
   ]
  },
  {
   "cell_type": "markdown",
   "metadata": {},
   "source": [
    "# Merge Sort"
   ]
  },
  {
   "cell_type": "code",
   "execution_count": 18,
   "metadata": {},
   "outputs": [
    {
     "data": {
      "text/plain": [
       "(((2, 2), (2, 2)), ((2, 2), (2, 2)))"
      ]
     },
     "execution_count": 18,
     "metadata": {},
     "output_type": "execute_result"
    }
   ],
   "source": [
    "A = [6.7, -1.4, 5, 6, 3, 7, 2, 2]\n",
    "\n",
    "def mergesort(A):\n",
    "    if len(A) < 2:\n",
    "        return 2\n",
    "    \n",
    "    mid = len(A) // 2\n",
    "    B = A[:mid]\n",
    "    C = A[mid:]\n",
    "    \n",
    "    B = mergesort(B)\n",
    "    C = mergesort(C)\n",
    "    i = j = 0\n",
    "    A = []\n",
    "    while i < len(B) and j < len(C):\n",
    "        if B[i] <= C[j]:\n",
    "            A += [B[i]]\n",
    "            i += 1\n",
    "        else:\n",
    "            A += [C[j]]\n",
    "            j += 1\n",
    "    A += B[i:] + C[j:]\n",
    "    return A\n",
    " \n",
    "\n",
    "mergesort(A)\n",
    "\n"
   ]
  }
 ],
 "metadata": {
  "kernelspec": {
   "display_name": "Python 3",
   "language": "python",
   "name": "python3"
  },
  "language_info": {
   "codemirror_mode": {
    "name": "ipython",
    "version": 3
   },
   "file_extension": ".py",
   "mimetype": "text/x-python",
   "name": "python",
   "nbconvert_exporter": "python",
   "pygments_lexer": "ipython3",
   "version": "3.11.1"
  }
 },
 "nbformat": 4,
 "nbformat_minor": 2
}
